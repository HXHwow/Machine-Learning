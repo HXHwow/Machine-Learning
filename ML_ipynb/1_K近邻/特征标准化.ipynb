{
 "cells": [
  {
   "cell_type": "markdown",
   "metadata": {},
   "source": [
    "## 特征数据预处理-标准化与归一化"
   ]
  },
  {
   "cell_type": "markdown",
   "metadata": {},
   "source": [
    "## 标准化\n",
    "同样我们都需要对原始数据进行处理，少不了的就**standardization**（或者叫做**Z-score normalization）**\n"
   ]
  },
  {
   "cell_type": "markdown",
   "metadata": {},
   "source": [
    "要求均值**μ=0**和标准差**σ=1**"
   ]
  },
  {
   "cell_type": "markdown",
   "metadata": {},
   "source": [
    "转换公式如下：（形成均值为0，标准差为1的分布，使得所有特征占比权重相等）\n",
    "\n",
    "$$\n",
    "z=\\frac{x-\\mu}{\\sigma}\n",
    "$$\n"
   ]
  },
  {
   "cell_type": "markdown",
   "metadata": {},
   "source": [
    "这个意义是十分重大的，想想一下，我们经常通过梯度下降来进行优化求解，公式一般如下，如果特征之间数值差异太大，那么更新的结果肯定会产生较大的差异，这是我们不希望的。在最开始的时候，我们认为特征之间的重要程度是一样的，并不想偏袒哪个特征，所以这步预处理工作必须要做！"
   ]
  },
  {
   "cell_type": "markdown",
   "metadata": {},
   "source": [
    "$$\n",
    "\\varDelta w_j=-\\eta \\frac{\\partial J}{\\partial w_j}=\\eta \\sum_i{\\left( t^{\\left( i \\right)}-o^{\\left( i \\right)} \\right)}x_{j}^{\\left( i \\right)}\n",
    "$$\n"
   ]
  },
  {
   "cell_type": "markdown",
   "metadata": {},
   "source": [
    "## 归一化"
   ]
  },
  {
   "cell_type": "markdown",
   "metadata": {},
   "source": [
    "另一种方法叫做**Min-Max scaling**(或者叫做“**normalization**”也就是我们常说的0-1归一化)\n",
    "处理后的所有特征值会被压缩到0-1区间上，这样做可以抑制离群值对结果的影响，归一化公式如下：\n",
    "\n",
    "$$\n",
    "X_{norm}=\\frac{X-X_{\\min}}{X_{\\max}-X_{\\min}}\n",
    "$$\n"
   ]
  },
  {
   "cell_type": "code",
   "execution_count": 21,
   "metadata": {},
   "outputs": [
    {
     "data": {
      "text/html": [
       "<div>\n",
       "<style scoped>\n",
       "    .dataframe tbody tr th:only-of-type {\n",
       "        vertical-align: middle;\n",
       "    }\n",
       "\n",
       "    .dataframe tbody tr th {\n",
       "        vertical-align: top;\n",
       "    }\n",
       "\n",
       "    .dataframe thead th {\n",
       "        text-align: right;\n",
       "    }\n",
       "</style>\n",
       "<table border=\"1\" class=\"dataframe\">\n",
       "  <thead>\n",
       "    <tr style=\"text-align: right;\">\n",
       "      <th></th>\n",
       "      <th>bedrooms</th>\n",
       "      <th>bathrooms</th>\n",
       "      <th>maximum_nights</th>\n",
       "    </tr>\n",
       "  </thead>\n",
       "  <tbody>\n",
       "    <tr>\n",
       "      <th>0</th>\n",
       "      <td>1.0</td>\n",
       "      <td>1.0</td>\n",
       "      <td>1125</td>\n",
       "    </tr>\n",
       "    <tr>\n",
       "      <th>1</th>\n",
       "      <td>3.0</td>\n",
       "      <td>3.0</td>\n",
       "      <td>30</td>\n",
       "    </tr>\n",
       "    <tr>\n",
       "      <th>2</th>\n",
       "      <td>1.0</td>\n",
       "      <td>2.0</td>\n",
       "      <td>1125</td>\n",
       "    </tr>\n",
       "    <tr>\n",
       "      <th>3</th>\n",
       "      <td>1.0</td>\n",
       "      <td>1.0</td>\n",
       "      <td>1125</td>\n",
       "    </tr>\n",
       "    <tr>\n",
       "      <th>4</th>\n",
       "      <td>1.0</td>\n",
       "      <td>1.0</td>\n",
       "      <td>1125</td>\n",
       "    </tr>\n",
       "  </tbody>\n",
       "</table>\n",
       "</div>"
      ],
      "text/plain": [
       "   bedrooms  bathrooms  maximum_nights\n",
       "0       1.0        1.0            1125\n",
       "1       3.0        3.0              30\n",
       "2       1.0        2.0            1125\n",
       "3       1.0        1.0            1125\n",
       "4       1.0        1.0            1125"
      ]
     },
     "execution_count": 21,
     "metadata": {},
     "output_type": "execute_result"
    }
   ],
   "source": [
    "import pandas as pd\n",
    "import numpy as np\n",
    "house = pd.read_csv('listings.csv')\n",
    "cols = ['bedrooms', 'bathrooms','maximum_nights']\n",
    "selected_house = house[cols]\n",
    "selected_house.head()"
   ]
  },
  {
   "cell_type": "markdown",
   "metadata": {},
   "source": [
    "在数据中，房间个数和最多住几晚衡量标准应该统一，特征之间数值差异较大。"
   ]
  },
  {
   "cell_type": "code",
   "execution_count": 30,
   "metadata": {},
   "outputs": [
    {
     "name": "stdout",
     "output_type": "stream",
     "text": [
      "<class 'pandas.core.frame.DataFrame'>\n",
      "RangeIndex: 3723 entries, 0 to 3722\n",
      "Data columns (total 3 columns):\n",
      "bedrooms          3702 non-null float64\n",
      "bathrooms         3696 non-null float64\n",
      "maximum_nights    3723 non-null int64\n",
      "dtypes: float64(2), int64(1)\n",
      "memory usage: 87.3 KB\n",
      "None\n",
      "<class 'pandas.core.frame.DataFrame'>\n",
      "Int64Index: 3675 entries, 0 to 3722\n",
      "Data columns (total 3 columns):\n",
      "bedrooms          3675 non-null float64\n",
      "bathrooms         3675 non-null float64\n",
      "maximum_nights    3675 non-null int64\n",
      "dtypes: float64(2), int64(1)\n",
      "memory usage: 114.8 KB\n"
     ]
    }
   ],
   "source": [
    "print(selected_house.info())\n",
    "selected_house = selected_house.dropna()\n",
    "selected_house.info()"
   ]
  },
  {
   "cell_type": "markdown",
   "metadata": {},
   "source": [
    "#### Standardization and Min-Max Scaling"
   ]
  },
  {
   "cell_type": "code",
   "execution_count": 65,
   "metadata": {
    "collapsed": true
   },
   "outputs": [],
   "source": [
    "from sklearn import preprocessing\n",
    "\n",
    "std_scale = preprocessing.StandardScaler().fit(selected_house)\n",
    "selected_house_std = std_scale.transform(selected_house)\n",
    "\n",
    "minmax_scale = preprocessing.MinMaxScaler().fit(selected_house)\n",
    "selected_house_minmax = minmax_scale.transform(selected_house)"
   ]
  },
  {
   "cell_type": "markdown",
   "metadata": {},
   "source": [
    "#### Plotting"
   ]
  },
  {
   "cell_type": "code",
   "execution_count": 66,
   "metadata": {
    "collapsed": true
   },
   "outputs": [],
   "source": [
    "%matplotlib inline"
   ]
  },
  {
   "cell_type": "code",
   "execution_count": 72,
   "metadata": {},
   "outputs": [
    {
     "data": {
      "image/png": "[encoded data removed]",
      "text/plain": [
       "<matplotlib.figure.Figure at 0x1e0851d4b00>"
      ]
     },
     "metadata": {},
     "output_type": "display_data"
    }
   ],
   "source": [
    "import matplotlib.pyplot as plt\n",
    "\n",
    "def plot():\n",
    "    plt.figure(figsize = (8,6))\n",
    "    plt.scatter(selected_house['bedrooms'], selected_house['bathrooms'],\n",
    "              c = 'green', label = 'input scale', alpha = 0.5)\n",
    "    \n",
    "    plt.scatter(selected_house_std[:,0], selected_house_std[:,1],\n",
    "               c = 'red', label = 'Standardized [$N  (\\mu=0, \\; \\sigma=1)$]', alpha = 0.5)\n",
    "    \n",
    "    plt.scatter(selected_house_minmax[:,0], selected_house_minmax[:,1],\n",
    "               c = 'blue', label = 'maxmin scale', alpha = 0.5)\n",
    "    \n",
    "    plt.title('Alcohol and Malic Acid content of the wine dataset')\n",
    "    plt.xlabel('bedrooms')\n",
    "    plt.ylabel('max_nights')\n",
    "    plt.legend(loc = 'upper left')\n",
    "    plt.grid()  #添加网格\n",
    "    \n",
    "    plt.tight_layout()\n",
    "plot()\n",
    "plt.show()"
   ]
  },
  {
   "cell_type": "code",
   "execution_count": 63,
   "metadata": {},
   "outputs": [
    {
     "data": {
      "text/plain": [
       "array([[ -2.49955793e-01,  -4.39365440e-01,  -1.65657204e-02],\n",
       "       [  2.12672607e+00,   2.96890472e+00,  -1.65966353e-02],\n",
       "       [ -2.49955793e-01,   1.26476964e+00,  -1.65657204e-02],\n",
       "       ..., \n",
       "       [  9.38385138e-01,  -4.39365440e-01,   6.06128727e+01],\n",
       "       [ -2.49955793e-01,  -4.39365440e-01,  -1.65968894e-02],\n",
       "       [ -1.43829672e+00,  -4.39365440e-01,  -1.65657204e-02]])"
      ]
     },
     "execution_count": 63,
     "metadata": {},
     "output_type": "execute_result"
    }
   ],
   "source": [
    "selected_house_minmax"
   ]
  },
  {
   "cell_type": "code",
   "execution_count": 64,
   "metadata": {},
   "outputs": [
    {
     "data": {
      "text/plain": [
       "array([[ -2.49955793e-01,  -4.39365440e-01,  -1.65657204e-02],\n",
       "       [  2.12672607e+00,   2.96890472e+00,  -1.65966353e-02],\n",
       "       [ -2.49955793e-01,   1.26476964e+00,  -1.65657204e-02],\n",
       "       ..., \n",
       "       [  9.38385138e-01,  -4.39365440e-01,   6.06128727e+01],\n",
       "       [ -2.49955793e-01,  -4.39365440e-01,  -1.65968894e-02],\n",
       "       [ -1.43829672e+00,  -4.39365440e-01,  -1.65657204e-02]])"
      ]
     },
     "execution_count": 64,
     "metadata": {},
     "output_type": "execute_result"
    }
   ],
   "source": [
    "selected_house_std"
   ]
  },
  {
   "cell_type": "code",
   "execution_count": 61,
   "metadata": {},
   "outputs": [
    {
     "data": {
      "text/plain": [
       "<matplotlib.collections.PathCollection at 0x1e085214780>"
      ]
     },
     "execution_count": 61,
     "metadata": {},
     "output_type": "execute_result"
    },
    {
     "data": {
      "image/png": "[encoded data removed]",
      "text/plain": [
       "<matplotlib.figure.Figure at 0x1e084fa5278>"
      ]
     },
     "metadata": {},
     "output_type": "display_data"
    }
   ],
   "source": [
    "    plt.scatter(selected_house_std[:,0], selected_house_std[:,1],\n",
    "               c = 'yellow', label = 'std scale', alpha = 0.5)"
   ]
  },
  {
   "cell_type": "code",
   "execution_count": 52,
   "metadata": {},
   "outputs": [
    {
     "data": {
      "text/plain": [
       "0    1125\n",
       "1      30\n",
       "2    1125\n",
       "3    1125\n",
       "4    1125\n",
       "Name: maximum_nights, dtype: int64"
      ]
     },
     "execution_count": 52,
     "metadata": {},
     "output_type": "execute_result"
    }
   ],
   "source": []
  },
  {
   "cell_type": "code",
   "execution_count": 62,
   "metadata": {},
   "outputs": [
    {
     "data": {
      "text/plain": [
       "<matplotlib.collections.PathCollection at 0x1e08527a550>"
      ]
     },
     "execution_count": 62,
     "metadata": {},
     "output_type": "execute_result"
    },
    {
     "data": {
      "image/png": "[encoded data removed]",
      "text/plain": [
       "<matplotlib.figure.Figure at 0x1e084fa5978>"
      ]
     },
     "metadata": {},
     "output_type": "display_data"
    }
   ],
   "source": []
  },
  {
   "cell_type": "code",
   "execution_count": null,
   "metadata": {
    "collapsed": true
   },
   "outputs": [],
   "source": []
  }
 ],
 "metadata": {
  "kernelspec": {
   "display_name": "Python 3",
   "language": "python",
   "name": "python3"
  },
  "language_info": {
   "codemirror_mode": {
    "name": "ipython",
    "version": 3
   },
   "file_extension": ".py",
   "mimetype": "text/x-python",
   "name": "python",
   "nbconvert_exporter": "python",
   "pygments_lexer": "ipython3",
   "version": "3.6.3"
  }
 },
 "nbformat": 4,
 "nbformat_minor": 2
}
